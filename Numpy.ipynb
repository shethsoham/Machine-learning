{
  "cells": [
    {
      "cell_type": "code",
      "execution_count": null,
      "id": "4fa4f1b0",
      "metadata": {
        "id": "4fa4f1b0"
      },
      "outputs": [],
      "source": [
        "#creating numpy/n-d arrays\n",
        "import numpy as np"
      ]
    },
    {
      "cell_type": "code",
      "execution_count": null,
      "id": "ab3b4fad",
      "metadata": {
        "id": "ab3b4fad",
        "outputId": "42f1ce32-8e9e-495f-8328-b999276da2f9",
        "colab": {
          "base_uri": "https://localhost:8080/"
        }
      },
      "outputs": [
        {
          "output_type": "execute_result",
          "data": {
            "text/plain": [
              "array([1, 2, 3, 4, 5, 6])"
            ]
          },
          "metadata": {},
          "execution_count": 7
        }
      ],
      "source": [
        "arr1 = np.array([1,2,3,4,5,6])\n",
        "arr1"
      ]
    },
    {
      "cell_type": "code",
      "execution_count": null,
      "id": "7d2a30df",
      "metadata": {
        "id": "7d2a30df",
        "outputId": "30decfea-d26e-40cd-e673-437cfd4f8ff5",
        "colab": {
          "base_uri": "https://localhost:8080/"
        }
      },
      "outputs": [
        {
          "output_type": "execute_result",
          "data": {
            "text/plain": [
              "numpy.ndarray"
            ]
          },
          "metadata": {},
          "execution_count": 8
        }
      ],
      "source": [
        "type(arr1)"
      ]
    },
    {
      "cell_type": "code",
      "execution_count": null,
      "id": "61e29164",
      "metadata": {
        "id": "61e29164",
        "outputId": "c86f7918-cedd-439b-c500-df8daf01bf6b",
        "colab": {
          "base_uri": "https://localhost:8080/"
        }
      },
      "outputs": [
        {
          "output_type": "execute_result",
          "data": {
            "text/plain": [
              "array([[1, 2, 3],\n",
              "       [4, 5, 6]])"
            ]
          },
          "metadata": {},
          "execution_count": 9
        }
      ],
      "source": [
        "#this is a 2d array\n",
        "arr2 = np.array([[1,2,3],[4,5,6]])\n",
        "arr2"
      ]
    },
    {
      "cell_type": "code",
      "execution_count": null,
      "id": "f5c358d5",
      "metadata": {
        "id": "f5c358d5",
        "outputId": "da596e88-2ae8-4ba2-b4dd-3cf9a3c41d2d",
        "colab": {
          "base_uri": "https://localhost:8080/"
        }
      },
      "outputs": [
        {
          "output_type": "execute_result",
          "data": {
            "text/plain": [
              "array([[0., 0., 0.],\n",
              "       [0., 0., 0.]])"
            ]
          },
          "metadata": {},
          "execution_count": 10
        }
      ],
      "source": [
        "arr3 = np.zeros((2,3))\n",
        "arr3"
      ]
    },
    {
      "cell_type": "code",
      "execution_count": null,
      "id": "77cd6dc8",
      "metadata": {
        "id": "77cd6dc8",
        "outputId": "6482c9b1-e72d-4f33-e26c-2e2ccd4942da",
        "colab": {
          "base_uri": "https://localhost:8080/"
        }
      },
      "outputs": [
        {
          "output_type": "execute_result",
          "data": {
            "text/plain": [
              "array([[1., 1., 1.],\n",
              "       [1., 1., 1.],\n",
              "       [1., 1., 1.]])"
            ]
          },
          "metadata": {},
          "execution_count": 11
        }
      ],
      "source": [
        "arr4 = np.ones((3,3))\n",
        "arr4"
      ]
    },
    {
      "cell_type": "code",
      "execution_count": null,
      "id": "5b3f6edb",
      "metadata": {
        "id": "5b3f6edb",
        "outputId": "0cb03469-8cd3-46eb-b76f-9b32ffb72259",
        "colab": {
          "base_uri": "https://localhost:8080/"
        }
      },
      "outputs": [
        {
          "output_type": "execute_result",
          "data": {
            "text/plain": [
              "array([[1., 0., 0., 0., 0.],\n",
              "       [0., 1., 0., 0., 0.],\n",
              "       [0., 0., 1., 0., 0.],\n",
              "       [0., 0., 0., 1., 0.],\n",
              "       [0., 0., 0., 0., 1.]])"
            ]
          },
          "metadata": {},
          "execution_count": 12
        }
      ],
      "source": [
        "arr5 = np.identity(5)\n",
        "arr5"
      ]
    },
    {
      "cell_type": "code",
      "execution_count": null,
      "id": "9af2375a",
      "metadata": {
        "id": "9af2375a",
        "outputId": "02cb562b-9c29-4e78-a195-2563ae3d4e07",
        "colab": {
          "base_uri": "https://localhost:8080/"
        }
      },
      "outputs": [
        {
          "output_type": "execute_result",
          "data": {
            "text/plain": [
              "array([0, 1, 2, 3, 4, 5, 6, 7, 8, 9])"
            ]
          },
          "metadata": {},
          "execution_count": 13
        }
      ],
      "source": [
        "arr6 = np.arange(10)\n",
        "arr6"
      ]
    },
    {
      "cell_type": "code",
      "execution_count": null,
      "id": "29496867",
      "metadata": {
        "id": "29496867",
        "colab": {
          "base_uri": "https://localhost:8080/"
        },
        "outputId": "8fe246a4-f4c2-45eb-b837-aab4558d2f86"
      },
      "outputs": [
        {
          "output_type": "execute_result",
          "data": {
            "text/plain": [
              "array([ 5,  7,  9, 11, 13, 15])"
            ]
          },
          "metadata": {},
          "execution_count": 14
        }
      ],
      "source": [
        "arr7 = np.arange(5,16,2)\n",
        "arr7"
      ]
    },
    {
      "cell_type": "code",
      "execution_count": null,
      "id": "b78f1320",
      "metadata": {
        "id": "b78f1320",
        "colab": {
          "base_uri": "https://localhost:8080/"
        },
        "outputId": "92f62a05-faf3-4169-edaa-d661b86a16ac"
      },
      "outputs": [
        {
          "output_type": "execute_result",
          "data": {
            "text/plain": [
              "array([10.        , 11.11111111, 12.22222222, 13.33333333, 14.44444444,\n",
              "       15.55555556, 16.66666667, 17.77777778, 18.88888889, 20.        ])"
            ]
          },
          "metadata": {},
          "execution_count": 15
        }
      ],
      "source": [
        "arr8 = np.linspace(10,20,10)\n",
        "arr8"
      ]
    },
    {
      "cell_type": "code",
      "execution_count": null,
      "id": "6717683f",
      "metadata": {
        "id": "6717683f",
        "colab": {
          "base_uri": "https://localhost:8080/"
        },
        "outputId": "957eb3da-d4c1-4fb9-c107-d7c4fe4f62e3"
      },
      "outputs": [
        {
          "output_type": "execute_result",
          "data": {
            "text/plain": [
              "array([10.        , 11.11111111, 12.22222222, 13.33333333, 14.44444444,\n",
              "       15.55555556, 16.66666667, 17.77777778, 18.88888889, 20.        ])"
            ]
          },
          "metadata": {},
          "execution_count": 16
        }
      ],
      "source": [
        "arr9 = arr8.copy()\n",
        "arr9"
      ]
    },
    {
      "cell_type": "code",
      "execution_count": null,
      "id": "e1779afa",
      "metadata": {
        "id": "e1779afa",
        "outputId": "f73af77e-fe7a-4e34-be64-1cda87b0a0e2",
        "colab": {
          "base_uri": "https://localhost:8080/"
        }
      },
      "outputs": [
        {
          "output_type": "execute_result",
          "data": {
            "text/plain": [
              "array([[[1, 2],\n",
              "        [3, 4]],\n",
              "\n",
              "       [[1, 2],\n",
              "        [3, 4]]])"
            ]
          },
          "metadata": {},
          "execution_count": 5
        }
      ],
      "source": [
        "arr10 = np.array([[[1,2],[3,4]],[[1,2],[3,4]]])\n",
        "arr10"
      ]
    },
    {
      "cell_type": "code",
      "execution_count": null,
      "id": "ee4b553e",
      "metadata": {
        "id": "ee4b553e",
        "outputId": "5452df13-83a1-4c3b-d40d-043cd3768c41",
        "colab": {
          "base_uri": "https://localhost:8080/"
        }
      },
      "outputs": [
        {
          "output_type": "execute_result",
          "data": {
            "text/plain": [
              "(2, 2, 2)"
            ]
          },
          "metadata": {},
          "execution_count": 17
        }
      ],
      "source": [
        "arr10.shape"
      ]
    },
    {
      "cell_type": "code",
      "execution_count": null,
      "id": "95b2ce4f",
      "metadata": {
        "id": "95b2ce4f",
        "outputId": "d6a7223e-9a32-4819-d9a0-03720cdc1f5c",
        "colab": {
          "base_uri": "https://localhost:8080/"
        }
      },
      "outputs": [
        {
          "output_type": "execute_result",
          "data": {
            "text/plain": [
              "3"
            ]
          },
          "metadata": {},
          "execution_count": 18
        }
      ],
      "source": [
        "arr10.ndim"
      ]
    },
    {
      "cell_type": "code",
      "execution_count": null,
      "id": "97b5fa92",
      "metadata": {
        "id": "97b5fa92",
        "outputId": "6cdf0dd6-bb6b-4673-f381-427e49be9526",
        "colab": {
          "base_uri": "https://localhost:8080/"
        }
      },
      "outputs": [
        {
          "output_type": "execute_result",
          "data": {
            "text/plain": [
              "8"
            ]
          },
          "metadata": {},
          "execution_count": 19
        }
      ],
      "source": [
        "arr10.size"
      ]
    },
    {
      "cell_type": "code",
      "execution_count": null,
      "id": "626dea43",
      "metadata": {
        "id": "626dea43",
        "outputId": "159f242c-3fdb-40c2-a808-87bb3d80351f",
        "colab": {
          "base_uri": "https://localhost:8080/"
        }
      },
      "outputs": [
        {
          "output_type": "execute_result",
          "data": {
            "text/plain": [
              "8"
            ]
          },
          "metadata": {},
          "execution_count": 20
        }
      ],
      "source": [
        "arr10.itemsize"
      ]
    },
    {
      "cell_type": "code",
      "execution_count": null,
      "id": "8b470ef8",
      "metadata": {
        "id": "8b470ef8",
        "outputId": "7bc7ade2-31cf-4e4f-aa57-b696d310b2e2",
        "colab": {
          "base_uri": "https://localhost:8080/"
        }
      },
      "outputs": [
        {
          "output_type": "execute_result",
          "data": {
            "text/plain": [
              "dtype('int64')"
            ]
          },
          "metadata": {},
          "execution_count": 22
        }
      ],
      "source": [
        "arr10.dtype"
      ]
    },
    {
      "cell_type": "code",
      "execution_count": null,
      "id": "b3c6f61c",
      "metadata": {
        "id": "b3c6f61c",
        "outputId": "9b0eb2d5-8827-4726-ad46-ab80ad8aae27",
        "colab": {
          "base_uri": "https://localhost:8080/"
        }
      },
      "outputs": [
        {
          "output_type": "execute_result",
          "data": {
            "text/plain": [
              "<function ndarray.astype>"
            ]
          },
          "metadata": {},
          "execution_count": 23
        }
      ],
      "source": [
        "arr10.astype"
      ]
    },
    {
      "cell_type": "code",
      "execution_count": null,
      "id": "a85e0eed",
      "metadata": {
        "id": "a85e0eed",
        "outputId": "1549266f-604a-4faa-a3d5-26ffddf17137",
        "colab": {
          "base_uri": "https://localhost:8080/"
        }
      },
      "outputs": [
        {
          "output_type": "execute_result",
          "data": {
            "text/plain": [
              "array([[[1., 2.],\n",
              "        [3., 4.]],\n",
              "\n",
              "       [[1., 2.],\n",
              "        [3., 4.]]])"
            ]
          },
          "metadata": {},
          "execution_count": 24
        }
      ],
      "source": [
        "#convert int to float\n",
        "arr10.astype('float')"
      ]
    },
    {
      "cell_type": "code",
      "execution_count": null,
      "id": "be9ae7d9",
      "metadata": {
        "colab": {
          "base_uri": "https://localhost:8080/"
        },
        "id": "be9ae7d9",
        "outputId": "73441d87-ca39-4ee4-cb90-166c9974abe8"
      },
      "outputs": [
        {
          "output_type": "stream",
          "name": "stdout",
          "text": [
            "2800\n",
            "array size 800\n"
          ]
        }
      ],
      "source": [
        "#python list vs numpy array\n",
        "#np arrays are faster, convinient and less memory consumption\n",
        "lista = range(100)\n",
        "array_a = np.arange(100)\n",
        "\n",
        "import sys\n",
        "\n",
        "print(sys.getsizeof(87)*len(lista))\n",
        "print(\"array size\",array_a.itemsize*array_a.size)"
      ]
    },
    {
      "cell_type": "code",
      "source": [
        "#for time diference...dekho ab\n",
        "import time\n",
        "x = range(10000000)\n",
        "y = range(10000000,20000000)\n",
        "start = time.time()\n",
        "c= [(x+y) for x,y in zip(x,y)]\n",
        "print(time.time()-start)"
      ],
      "metadata": {
        "colab": {
          "base_uri": "https://localhost:8080/"
        },
        "id": "Xpp4FL3ep1rs",
        "outputId": "259473df-71bf-4493-f428-52c70887c76e"
      },
      "id": "Xpp4FL3ep1rs",
      "execution_count": null,
      "outputs": [
        {
          "output_type": "stream",
          "name": "stdout",
          "text": [
            "1.4595870971679688\n"
          ]
        }
      ]
    },
    {
      "cell_type": "code",
      "source": [
        "x = np.arange(10000000)\n",
        "y = np.arange(10000000,20000000)\n",
        "start = time.time()\n",
        "c= x+y\n",
        "print(time.time()-start)"
      ],
      "metadata": {
        "colab": {
          "base_uri": "https://localhost:8080/"
        },
        "id": "NVDRTd-HqQuw",
        "outputId": "8cf45cb7-dbc9-476e-ecab-90271168e5ac"
      },
      "id": "NVDRTd-HqQuw",
      "execution_count": null,
      "outputs": [
        {
          "output_type": "stream",
          "name": "stdout",
          "text": [
            "0.10508298873901367\n"
          ]
        }
      ]
    },
    {
      "cell_type": "code",
      "source": [
        "arr11 = np.arange(24).reshape(6,4)\n",
        "arr11"
      ],
      "metadata": {
        "id": "gh7buzDq6V1R",
        "colab": {
          "base_uri": "https://localhost:8080/"
        },
        "outputId": "47199ff9-6865-4b07-c9c2-87761d694f0d"
      },
      "id": "gh7buzDq6V1R",
      "execution_count": null,
      "outputs": [
        {
          "output_type": "execute_result",
          "data": {
            "text/plain": [
              "array([[ 0,  1,  2,  3],\n",
              "       [ 4,  5,  6,  7],\n",
              "       [ 8,  9, 10, 11],\n",
              "       [12, 13, 14, 15],\n",
              "       [16, 17, 18, 19],\n",
              "       [20, 21, 22, 23]])"
            ]
          },
          "metadata": {},
          "execution_count": 28
        }
      ]
    },
    {
      "cell_type": "code",
      "source": [
        "#row printing\n",
        "arr11[:2]\n",
        "\n",
        "#column printing\n",
        "arr11[:,2:3]\n",
        "\n",
        "#middle name\n",
        "arr11[2:4,1:3]"
      ],
      "metadata": {
        "id": "ANQOPoWt7DqH",
        "colab": {
          "base_uri": "https://localhost:8080/"
        },
        "outputId": "e8a396b5-2351-4cca-e059-3155c43d297d"
      },
      "id": "ANQOPoWt7DqH",
      "execution_count": null,
      "outputs": [
        {
          "output_type": "execute_result",
          "data": {
            "text/plain": [
              "array([[ 9, 10],\n",
              "       [13, 14]])"
            ]
          },
          "metadata": {},
          "execution_count": 29
        }
      ]
    },
    {
      "cell_type": "code",
      "source": [
        "for i in arr11:\n",
        "  print(i)"
      ],
      "metadata": {
        "id": "bY65VM3082W4",
        "colab": {
          "base_uri": "https://localhost:8080/"
        },
        "outputId": "1590110c-f06d-4213-86d2-bed4c847175a"
      },
      "id": "bY65VM3082W4",
      "execution_count": null,
      "outputs": [
        {
          "output_type": "stream",
          "name": "stdout",
          "text": [
            "[0 1 2 3]\n",
            "[4 5 6 7]\n",
            "[ 8  9 10 11]\n",
            "[12 13 14 15]\n",
            "[16 17 18 19]\n",
            "[20 21 22 23]\n"
          ]
        }
      ]
    },
    {
      "cell_type": "code",
      "source": [
        "#for printing proper inside numbers we have builtin nditer function\n",
        "for i in np.nditer(arr11):\n",
        "  print(i)"
      ],
      "metadata": {
        "id": "Nqle-qua9H9s",
        "colab": {
          "base_uri": "https://localhost:8080/"
        },
        "outputId": "26f55a53-38e1-4c33-aec2-c9b814d40000"
      },
      "id": "Nqle-qua9H9s",
      "execution_count": null,
      "outputs": [
        {
          "output_type": "stream",
          "name": "stdout",
          "text": [
            "0\n",
            "1\n",
            "2\n",
            "3\n",
            "4\n",
            "5\n",
            "6\n",
            "7\n",
            "8\n",
            "9\n",
            "10\n",
            "11\n",
            "12\n",
            "13\n",
            "14\n",
            "15\n",
            "16\n",
            "17\n",
            "18\n",
            "19\n",
            "20\n",
            "21\n",
            "22\n",
            "23\n"
          ]
        }
      ]
    },
    {
      "cell_type": "code",
      "source": [
        "#Numpy Operations\n",
        "import numpy as np\n",
        "arr1 = np.array([1,2,3,4,5,6])\n",
        "arr2 = np.array([4,5,6,7,8,9])\n",
        "\n",
        "#subtraction\n",
        "arr1-arr2\n",
        "#multiplication\n",
        "arr1*arr2\n",
        "#greater than\n",
        "arr1>3  #output will be false "
      ],
      "metadata": {
        "id": "C08a_sgT92me",
        "colab": {
          "base_uri": "https://localhost:8080/"
        },
        "outputId": "24685ff6-e073-45dd-e789-e06ff370ad0b"
      },
      "id": "C08a_sgT92me",
      "execution_count": null,
      "outputs": [
        {
          "output_type": "execute_result",
          "data": {
            "text/plain": [
              "array([False, False, False,  True,  True,  True])"
            ]
          },
          "metadata": {},
          "execution_count": 32
        }
      ]
    },
    {
      "cell_type": "code",
      "source": [
        "#now arange function acts like for eg np.arange(6,12) will give 6-12 numbers\n",
        "arr2 = np.arange(6).reshape(2,3)\n",
        "arr3 = np.arange(6,12).reshape(3,2)\n",
        "#arr3\n",
        "arr2.dot(arr3)"
      ],
      "metadata": {
        "id": "X9t4qjPW-r37",
        "colab": {
          "base_uri": "https://localhost:8080/"
        },
        "outputId": "142682e6-5440-49e7-bc5f-fc72297b1866"
      },
      "id": "X9t4qjPW-r37",
      "execution_count": null,
      "outputs": [
        {
          "output_type": "execute_result",
          "data": {
            "text/plain": [
              "array([[ 28,  31],\n",
              "       [100, 112]])"
            ]
          },
          "metadata": {},
          "execution_count": 33
        }
      ]
    },
    {
      "cell_type": "code",
      "source": [
        "# to find largest number from an array\n",
        "#arr2.max()\n",
        "\n",
        "arr2.min()"
      ],
      "metadata": {
        "id": "c4sU2B24_iiT",
        "colab": {
          "base_uri": "https://localhost:8080/"
        },
        "outputId": "2ff49dff-f70e-4b4d-fa66-55f746fafe1c"
      },
      "id": "c4sU2B24_iiT",
      "execution_count": null,
      "outputs": [
        {
          "output_type": "execute_result",
          "data": {
            "text/plain": [
              "0"
            ]
          },
          "metadata": {},
          "execution_count": 37
        }
      ]
    },
    {
      "cell_type": "code",
      "source": [
        "#x axis is zero column wise\n",
        "arr2.min(axis=0)"
      ],
      "metadata": {
        "id": "xkMDjRFT_qi2",
        "colab": {
          "base_uri": "https://localhost:8080/"
        },
        "outputId": "b39016f7-e71d-46d3-8e8e-733037697330"
      },
      "id": "xkMDjRFT_qi2",
      "execution_count": null,
      "outputs": [
        {
          "output_type": "execute_result",
          "data": {
            "text/plain": [
              "array([0, 1, 2])"
            ]
          },
          "metadata": {},
          "execution_count": 48
        }
      ]
    },
    {
      "cell_type": "code",
      "source": [
        "#x axis is one row wise\n",
        "arr2.min(axis=1)"
      ],
      "metadata": {
        "id": "eMWf404d_-Kz",
        "colab": {
          "base_uri": "https://localhost:8080/"
        },
        "outputId": "3a5a8269-5be4-4fff-9945-781ae5977191"
      },
      "id": "eMWf404d_-Kz",
      "execution_count": null,
      "outputs": [
        {
          "output_type": "execute_result",
          "data": {
            "text/plain": [
              "array([0, 3])"
            ]
          },
          "metadata": {},
          "execution_count": 49
        }
      ]
    },
    {
      "cell_type": "code",
      "source": [
        "arr2.sum()"
      ],
      "metadata": {
        "id": "VMCYOPqCACkG",
        "colab": {
          "base_uri": "https://localhost:8080/"
        },
        "outputId": "d3d48144-3f56-4c2b-f164-de0372276370"
      },
      "id": "VMCYOPqCACkG",
      "execution_count": null,
      "outputs": [
        {
          "output_type": "execute_result",
          "data": {
            "text/plain": [
              "15"
            ]
          },
          "metadata": {},
          "execution_count": 50
        }
      ]
    },
    {
      "cell_type": "code",
      "source": [
        "arr2.sum(axis=0)"
      ],
      "metadata": {
        "id": "CGR2RzPcAROX",
        "colab": {
          "base_uri": "https://localhost:8080/"
        },
        "outputId": "09c394e0-c42e-45b9-ee87-79f434e85dd8"
      },
      "id": "CGR2RzPcAROX",
      "execution_count": null,
      "outputs": [
        {
          "output_type": "execute_result",
          "data": {
            "text/plain": [
              "array([3, 5, 7])"
            ]
          },
          "metadata": {},
          "execution_count": 51
        }
      ]
    },
    {
      "cell_type": "code",
      "source": [
        "arr2.mean()"
      ],
      "metadata": {
        "id": "NRNu3rCiAqr-",
        "colab": {
          "base_uri": "https://localhost:8080/"
        },
        "outputId": "ade3db46-8292-4a7d-aee4-fbc63bc63cde"
      },
      "id": "NRNu3rCiAqr-",
      "execution_count": null,
      "outputs": [
        {
          "output_type": "execute_result",
          "data": {
            "text/plain": [
              "2.5"
            ]
          },
          "metadata": {},
          "execution_count": 53
        }
      ]
    },
    {
      "cell_type": "code",
      "source": [
        "arr2.std()"
      ],
      "metadata": {
        "id": "mG5FCx_8AxpQ",
        "colab": {
          "base_uri": "https://localhost:8080/"
        },
        "outputId": "65638be4-2def-4543-e38f-20c8ea6d52ae"
      },
      "id": "mG5FCx_8AxpQ",
      "execution_count": null,
      "outputs": [
        {
          "output_type": "execute_result",
          "data": {
            "text/plain": [
              "1.707825127659933"
            ]
          },
          "metadata": {},
          "execution_count": 54
        }
      ]
    },
    {
      "cell_type": "code",
      "source": [
        "np.median(arr2)"
      ],
      "metadata": {
        "id": "3OG6uOOXA9H3"
      },
      "id": "3OG6uOOXA9H3",
      "execution_count": null,
      "outputs": []
    },
    {
      "cell_type": "code",
      "source": [
        "np.sin(arr2)"
      ],
      "metadata": {
        "id": "pBUw65u0A_3g",
        "colab": {
          "base_uri": "https://localhost:8080/"
        },
        "outputId": "95551c32-2334-4f07-a74d-b9e2695a3288"
      },
      "id": "pBUw65u0A_3g",
      "execution_count": null,
      "outputs": [
        {
          "output_type": "execute_result",
          "data": {
            "text/plain": [
              "array([[ 0.        ,  0.84147098,  0.90929743],\n",
              "       [ 0.14112001, -0.7568025 , -0.95892427]])"
            ]
          },
          "metadata": {},
          "execution_count": 56
        }
      ]
    },
    {
      "cell_type": "code",
      "source": [
        "np.exp(arr2)"
      ],
      "metadata": {
        "id": "w6hC_ZEWBM9Z",
        "colab": {
          "base_uri": "https://localhost:8080/"
        },
        "outputId": "917abde2-b456-4d39-cb10-2b687feb2b4c"
      },
      "id": "w6hC_ZEWBM9Z",
      "execution_count": null,
      "outputs": [
        {
          "output_type": "execute_result",
          "data": {
            "text/plain": [
              "array([[  1.        ,   2.71828183,   7.3890561 ],\n",
              "       [ 20.08553692,  54.59815003, 148.4131591 ]])"
            ]
          },
          "metadata": {},
          "execution_count": 57
        }
      ]
    },
    {
      "cell_type": "code",
      "source": [
        "#ravel function is used to convert ndimensional array to 1d.\n",
        "arr2.ravel()"
      ],
      "metadata": {
        "id": "7y6rmLTOB8v7",
        "colab": {
          "base_uri": "https://localhost:8080/"
        },
        "outputId": "d4496d19-8cc0-4e25-b0ae-9b86d7fbe4dd"
      },
      "id": "7y6rmLTOB8v7",
      "execution_count": null,
      "outputs": [
        {
          "output_type": "execute_result",
          "data": {
            "text/plain": [
              "array([0, 1, 2, 3, 4, 5])"
            ]
          },
          "metadata": {},
          "execution_count": 58
        }
      ]
    },
    {
      "cell_type": "code",
      "source": [
        "arr2.transpose()"
      ],
      "metadata": {
        "id": "WWjfvIJ4CU_-",
        "colab": {
          "base_uri": "https://localhost:8080/"
        },
        "outputId": "a3352fc4-dff8-4fdb-c015-0e822042c4fc"
      },
      "id": "WWjfvIJ4CU_-",
      "execution_count": null,
      "outputs": [
        {
          "output_type": "execute_result",
          "data": {
            "text/plain": [
              "array([[0, 3],\n",
              "       [1, 4],\n",
              "       [2, 5]])"
            ]
          },
          "metadata": {},
          "execution_count": 59
        }
      ]
    },
    {
      "cell_type": "code",
      "source": [
        "#stacking is appending the array on horizontal or vertical with the first array\n",
        "import numpy as np\n",
        "arr6= np.arange(12,18).reshape(2,3)\n",
        "arr7= np.arange(20,26).reshape(2,3)\n",
        "\n",
        "#np.hstack((arr6,arr7))\n",
        "#array([[12, 13, 14, 20, 21, 22],\n",
        "      #  [15, 16, 17, 23, 24, 25]])\n",
        "\n",
        "np.vstack((arr6,arr7))"
      ],
      "metadata": {
        "id": "A7Nw5t9WCwwt",
        "colab": {
          "base_uri": "https://localhost:8080/"
        },
        "outputId": "dab8c96f-38c5-4de4-dc1c-9985fc103c88"
      },
      "id": "A7Nw5t9WCwwt",
      "execution_count": null,
      "outputs": [
        {
          "output_type": "execute_result",
          "data": {
            "text/plain": [
              "array([[12, 13, 14],\n",
              "       [15, 16, 17],\n",
              "       [20, 21, 22],\n",
              "       [23, 24, 25]])"
            ]
          },
          "metadata": {},
          "execution_count": 62
        }
      ]
    },
    {
      "cell_type": "code",
      "source": [
        "#splitting splits the array into equal parts\n",
        "import numpy as np\n",
        "np.hsplit(arr6,3)\n",
        "np.vsplit(arr6,2)"
      ],
      "metadata": {
        "id": "gNII8dCEEy9B",
        "colab": {
          "base_uri": "https://localhost:8080/"
        },
        "outputId": "4c89a9a7-7fe0-4995-b0f3-a12e3ff5f906"
      },
      "id": "gNII8dCEEy9B",
      "execution_count": null,
      "outputs": [
        {
          "output_type": "execute_result",
          "data": {
            "text/plain": [
              "[array([[12, 13, 14]]), array([[15, 16, 17]])]"
            ]
          },
          "metadata": {},
          "execution_count": 63
        }
      ]
    },
    {
      "cell_type": "code",
      "source": [
        "#fancy indexing in numpy\n",
        "arr6= np.arange(24).reshape(6,4)\n",
        "arr6[[0,2,4]]"
      ],
      "metadata": {
        "id": "AbYH6L-PFYWb",
        "colab": {
          "base_uri": "https://localhost:8080/"
        },
        "outputId": "72966284-490e-4a7d-e3f4-877d30857a94"
      },
      "id": "AbYH6L-PFYWb",
      "execution_count": null,
      "outputs": [
        {
          "output_type": "execute_result",
          "data": {
            "text/plain": [
              "array([[ 0,  1,  2,  3],\n",
              "       [ 8,  9, 10, 11],\n",
              "       [16, 17, 18, 19]])"
            ]
          },
          "metadata": {},
          "execution_count": 64
        }
      ]
    },
    {
      "cell_type": "code",
      "source": [
        "#indexing with boolean array\n",
        "arr = np.random.randint(low =1 , high=100, size = 20).reshape(4,5)\n",
        "#index overlapping as in print only those numbers whose value is greater than 30 i.e indexing using boolean arrays\n",
        "arr[arr>30]\n",
        "\n",
        "arr[(arr>30) & (arr%2!=0)] = 0\n",
        "arr"
      ],
      "metadata": {
        "id": "CbXnH9dTF7Zx",
        "colab": {
          "base_uri": "https://localhost:8080/"
        },
        "outputId": "b8d2b854-01cc-4334-a523-cc14c9094746"
      },
      "id": "CbXnH9dTF7Zx",
      "execution_count": null,
      "outputs": [
        {
          "output_type": "execute_result",
          "data": {
            "text/plain": [
              "array([[30, 68, 18, 64, 70],\n",
              "       [80, 50,  0, 15, 66],\n",
              "       [52, 18,  0,  0,  0],\n",
              "       [82, 52, 62,  6,  0]])"
            ]
          },
          "metadata": {},
          "execution_count": 69
        }
      ]
    },
    {
      "cell_type": "code",
      "source": [
        "#plotting graphs using numpy\n",
        "x = np.linspace(-40,40,100)\n",
        "y = np.sin(x)\n",
        "\n",
        "import matplotlib.pyplot as plt\n",
        "#this below line is used to show the graph. For the graph to be on screen. If you dont write this line then although graph gets created it does not show\n",
        "%matplotlib inline\n",
        "plt.plot(x,y)"
      ],
      "metadata": {
        "id": "V-rx6aj4HNwr",
        "colab": {
          "base_uri": "https://localhost:8080/",
          "height": 282
        },
        "outputId": "6ec4d5a8-0dfd-489d-d7d5-c528fbba0b9a"
      },
      "id": "V-rx6aj4HNwr",
      "execution_count": null,
      "outputs": [
        {
          "output_type": "execute_result",
          "data": {
            "text/plain": [
              "[<matplotlib.lines.Line2D at 0x7f2183960cd0>]"
            ]
          },
          "metadata": {},
          "execution_count": 70
        },
        {
          "output_type": "display_data",
          "data": {
            "text/plain": [
              "<Figure size 432x288 with 1 Axes>"
            ],
            "image/png": "[encoded data removed]"
          },
          "metadata": {
            "needs_background": "light"
          }
        }
      ]
    },
    {
      "cell_type": "code",
      "source": [
        "y = x * x+2 * x+6\n",
        "plt.plot(x,y)"
      ],
      "metadata": {
        "id": "3R1jur7UIC5W"
      },
      "id": "3R1jur7UIC5W",
      "execution_count": null,
      "outputs": []
    },
    {
      "cell_type": "code",
      "source": [
        "#Broadcasting concept in numpy. Arithmetic operations can take place in dissimilar array as well\n",
        "#It adjust the size and then carries the operations\n",
        "#note that one axis i.e y should be same\n",
        "arr1  = np.arange(6).reshape(2,3)\n",
        "arr2 = np.arange(10,13).reshape(1,3)\n",
        "arr1+arr2"
      ],
      "metadata": {
        "id": "OpPOUEOwI6oM"
      },
      "id": "OpPOUEOwI6oM",
      "execution_count": null,
      "outputs": []
    },
    {
      "cell_type": "code",
      "source": [
        "#random\n",
        "import numpy as np\n",
        "np.random.random()"
      ],
      "metadata": {
        "id": "Ow7R9879Ngoo"
      },
      "id": "Ow7R9879Ngoo",
      "execution_count": null,
      "outputs": []
    },
    {
      "cell_type": "code",
      "source": [
        "#if you want a constant random value then seed function is used\n",
        "np.random.seed(6)\n",
        "np.random.random()"
      ],
      "metadata": {
        "colab": {
          "base_uri": "https://localhost:8080/"
        },
        "id": "XjAOILY3NsH9",
        "outputId": "cbe35df0-dd51-4a3f-d2b0-70e1804de5df"
      },
      "id": "XjAOILY3NsH9",
      "execution_count": null,
      "outputs": [
        {
          "output_type": "execute_result",
          "data": {
            "text/plain": [
              "0.8928601514360016"
            ]
          },
          "metadata": {},
          "execution_count": 63
        }
      ]
    },
    {
      "cell_type": "code",
      "source": [
        "#if you wnat any random function within given range then uniform function\n",
        "np.random.uniform(3,10)"
      ],
      "metadata": {
        "colab": {
          "base_uri": "https://localhost:8080/"
        },
        "id": "XaKr-fO0OJgU",
        "outputId": "1e65c977-81a7-4467-d546-5655a2d01d88"
      },
      "id": "XaKr-fO0OJgU",
      "execution_count": null,
      "outputs": [
        {
          "output_type": "execute_result",
          "data": {
            "text/plain": [
              "3.3813215547564823"
            ]
          },
          "metadata": {},
          "execution_count": 67
        }
      ]
    },
    {
      "cell_type": "code",
      "source": [
        "#if you wnat any array of random function within given range then uniform function\n",
        "np.random.uniform(3,10,6).reshape(2,3)"
      ],
      "metadata": {
        "colab": {
          "base_uri": "https://localhost:8080/"
        },
        "id": "fLZbrY_BOhcJ",
        "outputId": "f7b05ef9-1a2a-4c95-acc7-60c88a484c36"
      },
      "id": "fLZbrY_BOhcJ",
      "execution_count": null,
      "outputs": [
        {
          "output_type": "execute_result",
          "data": {
            "text/plain": [
              "array([[8.03046066, 8.61519394, 8.15484651],\n",
              "       [7.96392226, 6.78655798, 3.87376922]])"
            ]
          },
          "metadata": {},
          "execution_count": 68
        }
      ]
    },
    {
      "cell_type": "code",
      "source": [
        "#if you wnat any array of integer random function within given range then randint function\n",
        "np.random.randint(3,10,6).reshape(2,3)"
      ],
      "metadata": {
        "colab": {
          "base_uri": "https://localhost:8080/"
        },
        "id": "e3fHxAVhOieT",
        "outputId": "f0e0f078-8f80-43d7-ff93-d138f211becd"
      },
      "id": "e3fHxAVhOieT",
      "execution_count": null,
      "outputs": [
        {
          "output_type": "execute_result",
          "data": {
            "text/plain": [
              "array([[8, 5, 5],\n",
              "       [9, 3, 8]])"
            ]
          },
          "metadata": {},
          "execution_count": 69
        }
      ]
    },
    {
      "cell_type": "code",
      "source": [
        "#basic functions on 1d randint array\n",
        "a = np.random.randint(3,10,6)"
      ],
      "metadata": {
        "id": "fdQifyflOia0"
      },
      "id": "fdQifyflOia0",
      "execution_count": null,
      "outputs": []
    },
    {
      "cell_type": "code",
      "source": [
        "np.max(a)"
      ],
      "metadata": {
        "colab": {
          "base_uri": "https://localhost:8080/"
        },
        "id": "BvQ_u49sOiXl",
        "outputId": "6965c1ad-2171-4542-83af-4725970de011"
      },
      "id": "BvQ_u49sOiXl",
      "execution_count": null,
      "outputs": [
        {
          "output_type": "execute_result",
          "data": {
            "text/plain": [
              "6"
            ]
          },
          "metadata": {},
          "execution_count": 78
        }
      ]
    },
    {
      "cell_type": "code",
      "source": [
        "np.min(a)"
      ],
      "metadata": {
        "colab": {
          "base_uri": "https://localhost:8080/"
        },
        "id": "C55qSSmSOiUq",
        "outputId": "664c23d7-9813-41fb-fa2c-982ee66d647d"
      },
      "id": "C55qSSmSOiUq",
      "execution_count": null,
      "outputs": [
        {
          "output_type": "execute_result",
          "data": {
            "text/plain": [
              "3"
            ]
          },
          "metadata": {},
          "execution_count": 79
        }
      ]
    },
    {
      "cell_type": "code",
      "source": [
        "#index of maximun value\n",
        "np.argmax(a)"
      ],
      "metadata": {
        "colab": {
          "base_uri": "https://localhost:8080/"
        },
        "id": "3sehzMxMOiOM",
        "outputId": "f7e733c1-a815-4f53-a9fe-ac56f8179f98"
      },
      "id": "3sehzMxMOiOM",
      "execution_count": null,
      "outputs": [
        {
          "output_type": "execute_result",
          "data": {
            "text/plain": [
              "0"
            ]
          },
          "metadata": {},
          "execution_count": 80
        }
      ]
    },
    {
      "cell_type": "code",
      "source": [
        "#np.where is like conditional statement if condition is true then whaat and if false then what\n",
        "np.where(a%2==1,-1,a)"
      ],
      "metadata": {
        "id": "OS9anX7sOh86"
      },
      "id": "OS9anX7sOh86",
      "execution_count": null,
      "outputs": []
    },
    {
      "cell_type": "code",
      "source": [
        "#sort funtion does the sorting\n",
        "np.sort(a)"
      ],
      "metadata": {
        "id": "5aWXJKF-RANB"
      },
      "id": "5aWXJKF-RANB",
      "execution_count": null,
      "outputs": []
    },
    {
      "cell_type": "code",
      "source": [
        "#percentile is the function which will gives us that number below is less and above is greater\n",
        "np.percentile(a,50)\n",
        "#i.e. 50% numbers in this array is less than 4.5 and rest 50% is greater"
      ],
      "metadata": {
        "colab": {
          "base_uri": "https://localhost:8080/"
        },
        "id": "ErGhXp0MRlu7",
        "outputId": "ce3a33aa-58e1-4bcb-85aa-bf127f4f6bcb"
      },
      "id": "ErGhXp0MRlu7",
      "execution_count": null,
      "outputs": [
        {
          "output_type": "execute_result",
          "data": {
            "text/plain": [
              "4.5"
            ]
          },
          "metadata": {},
          "execution_count": 83
        }
      ]
    }
  ],
  "metadata": {
    "kernelspec": {
      "display_name": "Python 3 (ipykernel)",
      "language": "python",
      "name": "python3"
    },
    "language_info": {
      "codemirror_mode": {
        "name": "ipython",
        "version": 3
      },
      "file_extension": ".py",
      "mimetype": "text/x-python",
      "name": "python",
      "nbconvert_exporter": "python",
      "pygments_lexer": "ipython3",
      "version": "3.9.13"
    },
    "colab": {
      "provenance": []
    }
  },
  "nbformat": 4,
  "nbformat_minor": 5
}